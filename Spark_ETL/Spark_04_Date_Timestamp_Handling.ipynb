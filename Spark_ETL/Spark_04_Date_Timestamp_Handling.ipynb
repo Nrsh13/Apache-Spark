{
 "cells": [
  {
   "cell_type": "markdown",
   "metadata": {
    "collapsed": false
   },
   "source": [
    "# Handling Date/TimeStamp Formats"
   ]
  },
  {
   "cell_type": "markdown",
   "metadata": {},
   "source": [
    "## 1. When column is of Date/TimeStamp Datatype"
   ]
  },
  {
   "cell_type": "markdown",
   "metadata": {},
   "source": [
    "### Creating Data Frame with sample Data/schema"
   ]
  },
  {
   "cell_type": "code",
   "execution_count": 2,
   "metadata": {
    "collapsed": true
   },
   "outputs": [],
   "source": [
    "from pyspark.sql import functions as F\n",
    "from pyspark.sql import types as T"
   ]
  },
  {
   "cell_type": "code",
   "execution_count": 3,
   "metadata": {
    "collapsed": true
   },
   "outputs": [],
   "source": [
    "myspark = SparkSession.builder.appName(\"Spark_Date_Timestamp_Test\").master(\"yarn\").enableHiveSupport().getOrCreate()"
   ]
  },
  {
   "cell_type": "code",
   "execution_count": 4,
   "metadata": {
    "collapsed": true
   },
   "outputs": [],
   "source": [
    "data = [[\"naresh\",\"hisar\",25],[\"ravi\",\"delhi\",33],[\"virender\",\"hasangarh\", 55]]"
   ]
  },
  {
   "cell_type": "code",
   "execution_count": 5,
   "metadata": {
    "collapsed": false
   },
   "outputs": [],
   "source": [
    "fields = [T.StructField(\"name\", T.StringType(), True),T.StructField(\"city\", T.StringType(), True),\\\n",
    "          T.StructField(\"age\", T.IntegerType(), True)]"
   ]
  },
  {
   "cell_type": "code",
   "execution_count": 6,
   "metadata": {
    "collapsed": false
   },
   "outputs": [],
   "source": [
    "schema = T.StructType(fields)"
   ]
  },
  {
   "cell_type": "code",
   "execution_count": 7,
   "metadata": {
    "collapsed": true
   },
   "outputs": [],
   "source": [
    "df = spark.createDataFrame(data,schema)"
   ]
  },
  {
   "cell_type": "code",
   "execution_count": 8,
   "metadata": {
    "collapsed": false
   },
   "outputs": [
    {
     "name": "stdout",
     "output_type": "stream",
     "text": [
      "+--------+---------+---+\n",
      "|    name|     city|age|\n",
      "+--------+---------+---+\n",
      "|  naresh|    hisar| 25|\n",
      "|    ravi|    delhi| 33|\n",
      "|virender|hasangarh| 55|\n",
      "+--------+---------+---+\n",
      "\n"
     ]
    }
   ],
   "source": [
    "df.show()"
   ]
  },
  {
   "cell_type": "markdown",
   "metadata": {},
   "source": [
    "### Adding 2 Extra columns: ctime and cdate"
   ]
  },
  {
   "cell_type": "code",
   "execution_count": 9,
   "metadata": {
    "collapsed": true
   },
   "outputs": [],
   "source": [
    "df = df.withColumn(\"ctime\",F.current_timestamp().cast(T.TimestampType()))\\\n",
    ".withColumn(\"cdate\",F.current_date().cast(T.TimestampType()))"
   ]
  },
  {
   "cell_type": "code",
   "execution_count": 10,
   "metadata": {
    "collapsed": false
   },
   "outputs": [
    {
     "name": "stdout",
     "output_type": "stream",
     "text": [
      "root\n",
      " |-- name: string (nullable = true)\n",
      " |-- city: string (nullable = true)\n",
      " |-- age: integer (nullable = true)\n",
      " |-- ctime: timestamp (nullable = false)\n",
      " |-- cdate: timestamp (nullable = false)\n",
      "\n"
     ]
    }
   ],
   "source": [
    "df.printSchema()"
   ]
  },
  {
   "cell_type": "code",
   "execution_count": 11,
   "metadata": {
    "collapsed": false
   },
   "outputs": [
    {
     "name": "stdout",
     "output_type": "stream",
     "text": [
      "+-----------------------+---------------------+\n",
      "|ctime                  |cdate                |\n",
      "+-----------------------+---------------------+\n",
      "|2018-02-27 21:47:41.947|2018-02-27 00:00:00.0|\n",
      "|2018-02-27 21:47:41.947|2018-02-27 00:00:00.0|\n",
      "|2018-02-27 21:47:41.947|2018-02-27 00:00:00.0|\n",
      "+-----------------------+---------------------+\n",
      "\n"
     ]
    }
   ],
   "source": [
    "df.select(\"ctime\",\"cdate\").show(10,False)"
   ]
  },
  {
   "cell_type": "markdown",
   "metadata": {},
   "source": [
    "### Convert the ctime column into desire format\n",
    "\n",
    "Also HH is to get time in 24hours format.\n",
    "\n",
    "We will use below: F.date_format(), F.year(), F.month(), F.dayofmonth(), F.to_date(), F.second()"
   ]
  },
  {
   "cell_type": "code",
   "execution_count": 12,
   "metadata": {
    "collapsed": false
   },
   "outputs": [],
   "source": [
    "df = df.withColumn(\"ctime_date\",F.date_format(df.ctime, \"yyyy-MM-dd HH:mm:ss\"))\\\n",
    "    .withColumn(\"ctime_year\", F.year(df.ctime))\\\n",
    "    .withColumn(\"ctime_month\", F.month(df.ctime))\\\n",
    "    .withColumn(\"ctime_day\", F.dayofmonth(df.ctime))\\\n",
    "    .withColumn(\"ctime_todate\", F.to_date(df.ctime))\\\n",
    "      .withColumn(\"ctime_seconds\", F.second(df.ctime))"
   ]
  },
  {
   "cell_type": "code",
   "execution_count": 13,
   "metadata": {
    "collapsed": false
   },
   "outputs": [
    {
     "name": "stdout",
     "output_type": "stream",
     "text": [
      "+-------------------+------------+----------+-----------+---------+-------------+\n",
      "|ctime_date         |ctime_todate|ctime_year|ctime_month|ctime_day|ctime_seconds|\n",
      "+-------------------+------------+----------+-----------+---------+-------------+\n",
      "|2018-02-27 21:47:44|2018-02-27  |2018      |2          |27       |44           |\n",
      "|2018-02-27 21:47:44|2018-02-27  |2018      |2          |27       |44           |\n",
      "|2018-02-27 21:47:44|2018-02-27  |2018      |2          |27       |44           |\n",
      "+-------------------+------------+----------+-----------+---------+-------------+\n",
      "\n"
     ]
    }
   ],
   "source": [
    "df.select(\"ctime_date\",\"ctime_todate\",\"ctime_year\",\"ctime_month\",\"ctime_day\",\"ctime_seconds\").show(10,False)"
   ]
  },
  {
   "cell_type": "markdown",
   "metadata": {},
   "source": [
    "### Get Date before 6 days using F.date_sub() and get the difference using F.datediff()"
   ]
  },
  {
   "cell_type": "code",
   "execution_count": 14,
   "metadata": {
    "collapsed": false
   },
   "outputs": [],
   "source": [
    "df = df.withColumn(\"date_before_6days\" , F.date_sub(df.ctime_todate,6))"
   ]
  },
  {
   "cell_type": "code",
   "execution_count": 15,
   "metadata": {
    "collapsed": false
   },
   "outputs": [],
   "source": [
    "df = df.withColumn(\"datediff\", F.datediff(df.ctime_todate,df.date_before_6days))"
   ]
  },
  {
   "cell_type": "code",
   "execution_count": 16,
   "metadata": {
    "collapsed": false
   },
   "outputs": [
    {
     "name": "stdout",
     "output_type": "stream",
     "text": [
      "+------------+-----------------+--------+\n",
      "|ctime_todate|date_before_6days|datediff|\n",
      "+------------+-----------------+--------+\n",
      "|2018-02-27  |2018-02-21       |6       |\n",
      "|2018-02-27  |2018-02-21       |6       |\n",
      "|2018-02-27  |2018-02-21       |6       |\n",
      "+------------+-----------------+--------+\n",
      "\n"
     ]
    }
   ],
   "source": [
    "df.select(\"ctime_todate\",\"date_before_6days\",\"datediff\").show(10,False)"
   ]
  },
  {
   "cell_type": "markdown",
   "metadata": {},
   "source": [
    "### Get Unix TimeStamp using F.unix_timestamp() and revert this using F.from_unixtime()\n",
    "\n",
    "Note: unix_timestamp() will ignore the milliseconds part upto 3 digits and fail if we have more than 3 digits in milliseconds"
   ]
  },
  {
   "cell_type": "code",
   "execution_count": 17,
   "metadata": {
    "collapsed": false
   },
   "outputs": [],
   "source": [
    "df = df.withColumn(\"unixTime\", F.unix_timestamp(df.ctime, format='yyyy-MM-dd HH:mm:ss'))"
   ]
  },
  {
   "cell_type": "code",
   "execution_count": 18,
   "metadata": {
    "collapsed": false
   },
   "outputs": [],
   "source": [
    "df = df.withColumn(\"revert_UnixTimestamp\", F.from_unixtime(df.unixTime))"
   ]
  },
  {
   "cell_type": "code",
   "execution_count": 19,
   "metadata": {
    "collapsed": false
   },
   "outputs": [
    {
     "name": "stdout",
     "output_type": "stream",
     "text": [
      "+-----------------------+----------+--------------------+\n",
      "|ctime                  |unixTime  |revert_UnixTimestamp|\n",
      "+-----------------------+----------+--------------------+\n",
      "|2018-02-27 21:47:50.533|1519721270|2018-02-27 21:47:50 |\n",
      "|2018-02-27 21:47:50.533|1519721270|2018-02-27 21:47:50 |\n",
      "|2018-02-27 21:47:50.533|1519721270|2018-02-27 21:47:50 |\n",
      "+-----------------------+----------+--------------------+\n",
      "\n"
     ]
    }
   ],
   "source": [
    "df.select(df.ctime, df.unixTime, \"revert_UnixTimestamp\").show(10,False)"
   ]
  },
  {
   "cell_type": "markdown",
   "metadata": {},
   "source": [
    "### Converting to a timezone(say NZ,IST,PST) from UTC\n"
   ]
  },
  {
   "cell_type": "code",
   "execution_count": 20,
   "metadata": {
    "collapsed": false
   },
   "outputs": [],
   "source": [
    "df = df.withColumn(\"NZ_to_utc\", F.to_utc_timestamp(df.ctime,\"NZ\"))\\\n",
    "    .withColumn(\"IST_to_utc\", F.to_utc_timestamp(df.ctime,\"IST\"))\\\n",
    "    .withColumn(\"PST_to_utc\", F.to_utc_timestamp(df.ctime,\"PST\"))    "
   ]
  },
  {
   "cell_type": "code",
   "execution_count": 21,
   "metadata": {
    "collapsed": false
   },
   "outputs": [
    {
     "name": "stdout",
     "output_type": "stream",
     "text": [
      "+-----------------------+-----------------------+-----------------------+-----------------------+\n",
      "|ctime                  |NZ_to_utc              |IST_to_utc             |PST_to_utc             |\n",
      "+-----------------------+-----------------------+-----------------------+-----------------------+\n",
      "|2018-02-27 21:47:52.825|2018-02-27 08:47:52.825|2018-02-27 16:17:52.825|2018-02-28 05:47:52.825|\n",
      "|2018-02-27 21:47:52.825|2018-02-27 08:47:52.825|2018-02-27 16:17:52.825|2018-02-28 05:47:52.825|\n",
      "|2018-02-27 21:47:52.825|2018-02-27 08:47:52.825|2018-02-27 16:17:52.825|2018-02-28 05:47:52.825|\n",
      "+-----------------------+-----------------------+-----------------------+-----------------------+\n",
      "\n"
     ]
    }
   ],
   "source": [
    "df.select(df.ctime, df.NZ_to_utc,\"IST_to_utc\",\"PST_to_utc\").show(100,False)"
   ]
  },
  {
   "cell_type": "markdown",
   "metadata": {
    "collapsed": false
   },
   "source": [
    "## 2. When column is of String Datatype and have Milliseconds\n",
    "\n",
    "Till now we had the time/date columns in same datatype(time or date) format. But what if you are reading from a file and  everything is loaded as STRING. Then we will have to change the type from String to Date/timestamp seperately."
   ]
  },
  {
   "cell_type": "markdown",
   "metadata": {},
   "source": [
    "### Case (i): format = \"yyyy-MM-dd HH.mm.ss.SSS\" \n",
    "\n",
    "Sample: 2017-09-14 01.20.29.343 Having 3 digits of milliseconds."
   ]
  },
  {
   "cell_type": "code",
   "execution_count": 22,
   "metadata": {
    "collapsed": false
   },
   "outputs": [],
   "source": [
    "three_digit_millisecs = [[\"2017-09-14 01.20.29.343\"],[\"2017-09-10 04.20.29.341\"],[\"2017-09-18 02.20.29.123\"]]\n",
    "schema = T.StructType([T.StructField(\"timing\", T.StringType(),True)])\n",
    "df = spark.createDataFrame(three_digit_millisecs,schema)"
   ]
  },
  {
   "cell_type": "markdown",
   "metadata": {},
   "source": [
    "Note that the Datatype is String"
   ]
  },
  {
   "cell_type": "code",
   "execution_count": 23,
   "metadata": {
    "collapsed": false
   },
   "outputs": [
    {
     "name": "stdout",
     "output_type": "stream",
     "text": [
      "root\n",
      " |-- timing: string (nullable = true)\n",
      "\n"
     ]
    }
   ],
   "source": [
    "df.printSchema()"
   ]
  },
  {
   "cell_type": "code",
   "execution_count": 24,
   "metadata": {
    "collapsed": false
   },
   "outputs": [
    {
     "name": "stdout",
     "output_type": "stream",
     "text": [
      "+-----------------------+\n",
      "|timing                 |\n",
      "+-----------------------+\n",
      "|2017-09-14 01.20.29.343|\n",
      "|2017-09-10 04.20.29.341|\n",
      "|2017-09-18 02.20.29.123|\n",
      "+-----------------------+\n",
      "\n"
     ]
    }
   ],
   "source": [
    "df.show(10,False)"
   ]
  },
  {
   "cell_type": "markdown",
   "metadata": {},
   "source": [
    "### Subcase (i): Milliseconds part is NOT needed\n",
    "\n",
    "In this case, We can use unix_timestamp() function which will simply change the data type from STRING to TIMESTAMP. But, we will loose the milliseconds part.\n",
    "\n",
    "Below we will create a new column 'in_timestamp_datatype' losing milliseconds"
   ]
  },
  {
   "cell_type": "code",
   "execution_count": 25,
   "metadata": {
    "collapsed": false
   },
   "outputs": [],
   "source": [
    "format = \"yyyy-MM-dd HH.mm.ss.SSS\"\n",
    "\n",
    "df = df.withColumn(\"in_timestamp_datatype\",(F.unix_timestamp(\"timing\",format)).cast('timestamp'))"
   ]
  },
  {
   "cell_type": "markdown",
   "metadata": {},
   "source": [
    "Note the Datatype of new column, its timestamp"
   ]
  },
  {
   "cell_type": "code",
   "execution_count": 26,
   "metadata": {
    "collapsed": false
   },
   "outputs": [
    {
     "name": "stdout",
     "output_type": "stream",
     "text": [
      "root\n",
      " |-- timing: string (nullable = true)\n",
      " |-- in_timestamp_datatype: timestamp (nullable = true)\n",
      "\n"
     ]
    }
   ],
   "source": [
    "df.printSchema()"
   ]
  },
  {
   "cell_type": "code",
   "execution_count": 27,
   "metadata": {
    "collapsed": false
   },
   "outputs": [
    {
     "name": "stdout",
     "output_type": "stream",
     "text": [
      "+-----------------------+---------------------+\n",
      "|timing                 |in_timestamp_datatype|\n",
      "+-----------------------+---------------------+\n",
      "|2017-09-14 01.20.29.343|2017-09-14 01:20:29.0|\n",
      "|2017-09-10 04.20.29.341|2017-09-10 04:20:29.0|\n",
      "|2017-09-18 02.20.29.123|2017-09-18 02:20:29.0|\n",
      "+-----------------------+---------------------+\n",
      "\n"
     ]
    }
   ],
   "source": [
    "df.show(10,False)"
   ]
  },
  {
   "cell_type": "markdown",
   "metadata": {
    "collapsed": true
   },
   "source": [
    "### Subcase (ii): Milliseconds part is Needed\n",
    "\n",
    "If we want to keep the milliseconds part, we will :\n",
    "\n",
    "1) first need to take the timestamp (without milliseconds, which is 2017-09-14 01:20:29) part using substring(0,21) and convert it into double.\n",
    "\n",
    "Note that we took 1,21 ==> which is 2017-09-14 01.20.29.3\n",
    "\n",
    "As we know from privious example, unix_timestamp will take the (3 digit) milliseconds part as input (by default 000 or whatever we pass). So we can use 0,21(2017-09-14 01.20.29.3) or 0,22(2017-09-14 01.20.29.34) or 0,23(2017-09-14 01.20.29.343)\n",
    "\t\n",
    "    unix_timestamp(substring('timing',0,21),format2).cast('double')\n",
    "\t\t\n",
    "2) Use substring to add the milliseconds part later (should be with double datatype). Divide by 1000 is just to generate .xyz (343/1000=.343)\n",
    "\n",
    "    +substring('timing',21,3).cast('double')/1000.0\n",
    "\t\n",
    "3) Finally cast the whole thing in timestamp format.\n",
    "\n",
    "    .cast('timestamp')\n"
   ]
  },
  {
   "cell_type": "code",
   "execution_count": 28,
   "metadata": {
    "collapsed": false
   },
   "outputs": [],
   "source": [
    "df = df.withColumn(\"in_timestamp_datatype\",(F.unix_timestamp(F.substring('timing',0,21),format).cast(T.DoubleType())\\\n",
    "        +F.substring('timing',21,3).cast(T.DoubleType())/1000.0)\\\n",
    "        .cast(T.TimestampType()))"
   ]
  },
  {
   "cell_type": "code",
   "execution_count": 29,
   "metadata": {
    "collapsed": false
   },
   "outputs": [
    {
     "name": "stdout",
     "output_type": "stream",
     "text": [
      "root\n",
      " |-- timing: string (nullable = true)\n",
      " |-- in_timestamp_datatype: timestamp (nullable = true)\n",
      "\n"
     ]
    }
   ],
   "source": [
    "df.printSchema()"
   ]
  },
  {
   "cell_type": "markdown",
   "metadata": {},
   "source": [
    "Note that we are having the milliseconds part now"
   ]
  },
  {
   "cell_type": "code",
   "execution_count": 30,
   "metadata": {
    "collapsed": false
   },
   "outputs": [
    {
     "name": "stdout",
     "output_type": "stream",
     "text": [
      "+-----------------------+-----------------------+\n",
      "|timing                 |in_timestamp_datatype  |\n",
      "+-----------------------+-----------------------+\n",
      "|2017-09-14 01.20.29.343|2017-09-14 01:20:29.343|\n",
      "|2017-09-10 04.20.29.341|2017-09-10 04:20:29.341|\n",
      "|2017-09-18 02.20.29.123|2017-09-18 02:20:29.123|\n",
      "+-----------------------+-----------------------+\n",
      "\n"
     ]
    }
   ],
   "source": [
    "df.show(10,False)"
   ]
  },
  {
   "cell_type": "markdown",
   "metadata": {},
   "source": [
    "### Case (ii): format = \"yyyy-MM-dd HH.mm.ss.SSSSSS\" \n",
    "\n",
    "Sample: 2017-09-14 01.20.29.343234 Having 6 digits of milliseconds."
   ]
  },
  {
   "cell_type": "code",
   "execution_count": 31,
   "metadata": {
    "collapsed": true
   },
   "outputs": [],
   "source": [
    "six_digit_millisecs = [[\"2017-09-14 01.20.29.343234\"],[\"2017-09-10 04.20.29.341244\"],[\"2017-09-18 02.20.29.123456\"]]\n",
    "schema = T.StructType([T.StructField(\"timing\", T.StringType(),True)])\n",
    "df = spark.createDataFrame(six_digit_millisecs,schema)"
   ]
  },
  {
   "cell_type": "markdown",
   "metadata": {},
   "source": [
    "Note that the Datatype is String"
   ]
  },
  {
   "cell_type": "code",
   "execution_count": 32,
   "metadata": {
    "collapsed": false
   },
   "outputs": [
    {
     "name": "stdout",
     "output_type": "stream",
     "text": [
      "root\n",
      " |-- timing: string (nullable = true)\n",
      "\n"
     ]
    }
   ],
   "source": [
    "df.printSchema()"
   ]
  },
  {
   "cell_type": "code",
   "execution_count": 33,
   "metadata": {
    "collapsed": false
   },
   "outputs": [
    {
     "name": "stdout",
     "output_type": "stream",
     "text": [
      "+--------------------------+\n",
      "|timing                    |\n",
      "+--------------------------+\n",
      "|2017-09-14 01.20.29.343234|\n",
      "|2017-09-10 04.20.29.341244|\n",
      "|2017-09-18 02.20.29.123456|\n",
      "+--------------------------+\n",
      "\n"
     ]
    }
   ],
   "source": [
    "df.show(10,False)"
   ]
  },
  {
   "cell_type": "markdown",
   "metadata": {},
   "source": [
    "### Subcase (i): Milliseconds part is NOT needed\n",
    "\n",
    "From previous subcase (i), we know that unix_timestamp will handle upto 3 digits of milliseconds (with lose of 3 percisions).\n",
    "\n",
    "Here all things are same but as we are having more than 3 digits of milliseconds, we will have to use the substring stuff to pass UPTO 3 digits of milliseconds to unix_timestamp. \n",
    "\n",
    "In case we pass the value as it is (without using substring), the 6 digit milliseconds will be converted into minutes/seconds and will be added to the actual timestamp. Meaning we will get higher timestamp.\n",
    "\n",
    "For eq. 2017-09-14-01.20.29.469061 will be converted to  2017-09-14 01:28:18 (higher by 469,061 ms = 7 min 49 seconds)"
   ]
  },
  {
   "cell_type": "code",
   "execution_count": 34,
   "metadata": {
    "collapsed": false
   },
   "outputs": [],
   "source": [
    "format = \"yyyy-MM-dd HH.mm.ss.SSSSSS\"\n",
    "\n",
    "df = df.withColumn(\"in_timestamp_datatype\",(F.unix_timestamp(F.substring(\"timing\",1,23),format)).cast(T.TimestampType()))"
   ]
  },
  {
   "cell_type": "markdown",
   "metadata": {},
   "source": [
    "Note the Datatype of new column, its timestamp"
   ]
  },
  {
   "cell_type": "code",
   "execution_count": 35,
   "metadata": {
    "collapsed": false
   },
   "outputs": [
    {
     "name": "stdout",
     "output_type": "stream",
     "text": [
      "root\n",
      " |-- timing: string (nullable = true)\n",
      " |-- in_timestamp_datatype: timestamp (nullable = true)\n",
      "\n"
     ]
    }
   ],
   "source": [
    "df.printSchema()"
   ]
  },
  {
   "cell_type": "code",
   "execution_count": 36,
   "metadata": {
    "collapsed": false
   },
   "outputs": [
    {
     "name": "stdout",
     "output_type": "stream",
     "text": [
      "+--------------------------+---------------------+\n",
      "|timing                    |in_timestamp_datatype|\n",
      "+--------------------------+---------------------+\n",
      "|2017-09-14 01.20.29.343234|2017-09-14 01:20:29.0|\n",
      "|2017-09-10 04.20.29.341244|2017-09-10 04:20:29.0|\n",
      "|2017-09-18 02.20.29.123456|2017-09-18 02:20:29.0|\n",
      "+--------------------------+---------------------+\n",
      "\n"
     ]
    }
   ],
   "source": [
    "df.show(10,False)"
   ]
  },
  {
   "cell_type": "markdown",
   "metadata": {},
   "source": [
    "### Subcase (ii): Milliseconds part is Needed\n",
    "\n",
    "Explanation is exactly same like earlier"
   ]
  },
  {
   "cell_type": "code",
   "execution_count": 37,
   "metadata": {
    "collapsed": true
   },
   "outputs": [],
   "source": [
    "df = df.withColumn(\"in_timestamp_datatype\",(F.unix_timestamp(F.substring('timing',0,21),format).cast(T.DoubleType())\\\n",
    "        +F.substring('timing',21,6).cast(T.DoubleType())/1000000.0)\\\n",
    "        .cast(T.TimestampType()))"
   ]
  },
  {
   "cell_type": "code",
   "execution_count": 38,
   "metadata": {
    "collapsed": false
   },
   "outputs": [
    {
     "name": "stdout",
     "output_type": "stream",
     "text": [
      "root\n",
      " |-- timing: string (nullable = true)\n",
      " |-- in_timestamp_datatype: timestamp (nullable = true)\n",
      "\n"
     ]
    }
   ],
   "source": [
    "df.printSchema()"
   ]
  },
  {
   "cell_type": "markdown",
   "metadata": {},
   "source": [
    "Note that we are having the milliseconds part now"
   ]
  },
  {
   "cell_type": "code",
   "execution_count": 39,
   "metadata": {
    "collapsed": false
   },
   "outputs": [
    {
     "name": "stdout",
     "output_type": "stream",
     "text": [
      "+--------------------------+--------------------------+\n",
      "|timing                    |in_timestamp_datatype     |\n",
      "+--------------------------+--------------------------+\n",
      "|2017-09-14 01.20.29.343234|2017-09-14 01:20:29.343234|\n",
      "|2017-09-10 04.20.29.341244|2017-09-10 04:20:29.341244|\n",
      "|2017-09-18 02.20.29.123456|2017-09-18 02:20:29.123456|\n",
      "+--------------------------+--------------------------+\n",
      "\n"
     ]
    }
   ],
   "source": [
    "df.show(10,False)"
   ]
  },
  {
   "cell_type": "markdown",
   "metadata": {
    "collapsed": true
   },
   "source": [
    "# What's Next\n",
    "\n",
    "1) To Download this Single Notebook, Click this file in my Github Account, Copy the URL and paste in http://nbviewer.jupyter.org/. Download button will be in top right corner.\n",
    "\n",
    "2) Open your Juypter Notebook home page and upload using \"upload\" Button.\n",
    "\n",
    "3) Continue Learning from the next Notebook Spark_05_UDF_Usage.ipynb"
   ]
  }
 ],
 "metadata": {
  "anaconda-cloud": {},
  "kernelspec": {
   "display_name": "Python [conda root]",
   "language": "python",
   "name": "conda-root-py"
  },
  "language_info": {
   "codemirror_mode": {
    "name": "ipython",
    "version": 2
   },
   "file_extension": ".py",
   "mimetype": "text/x-python",
   "name": "python",
   "nbconvert_exporter": "python",
   "pygments_lexer": "ipython2",
   "version": "2.7.12"
  }
 },
 "nbformat": 4,
 "nbformat_minor": 1
}
